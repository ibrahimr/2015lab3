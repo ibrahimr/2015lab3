{
  "nbformat": 4,
  "nbformat_minor": 0,
  "metadata": {
    "colab": {
      "provenance": [],
      "toc_visible": true,
      "authorship_tag": "ABX9TyNYGDdt/sNB0UjQTmfh1XgJ",
      "include_colab_link": true
    },
    "kernelspec": {
      "name": "python3",
      "display_name": "Python 3"
    },
    "language_info": {
      "name": "python"
    }
  },
  "cells": [
    {
      "cell_type": "markdown",
      "metadata": {
        "id": "view-in-github",
        "colab_type": "text"
      },
      "source": [
        "<a href=\"https://colab.research.google.com/github/ibrahimr/2015lab3/blob/master/Intro_NLP.ipynb\" target=\"_parent\"><img src=\"https://colab.research.google.com/assets/colab-badge.svg\" alt=\"Open In Colab\"/></a>"
      ]
    },
    {
      "cell_type": "code",
      "execution_count": null,
      "metadata": {
        "id": "zd1ISEF3XukU"
      },
      "outputs": [],
      "source": []
    },
    {
      "cell_type": "markdown",
      "source": [
        "Different Applications of NLP Classification\n",
        "•\n",
        "•\n",
        "•\n",
        "Sentiment Analysis (Emotion Classification)\n",
        "Spam Detection (Email & Message Classification)\n",
        "Topic Classification (News and Document Categorization)\n",
        "Main steps of developing NLP for classification\n",
        "•\n",
        "•\n",
        "•\n",
        "•\n",
        "•\n",
        "Data Collection\n",
        "Data Preprocessing\n",
        "Feature Extraction\n",
        "Model Selection and Training\n",
        "Evaluation\n",
        "\n",
        "\n",
        "The main types of data preprocessing\n",
        "1. Text Cleaning: Preprocessing the raw text to remove noise and irrelevant content.\n",
        "–\n",
        "Lowercasing: Convert all text to lowercase to ensure uniformity. Example:\n",
        "\"Hello World\" → \"hello world\"\n",
        "\n",
        "–Removing Punctuation: Eliminating symbols like .,!?@#. Example: \"hello,\n",
        "world!\" → \"hello world\"\n",
        "–Removing Special Characters: Remove non-alphanumeric characters.\n",
        "Example: \"I love #AI & NLP\" → \"I love AI NLP\"\n",
        "–Removing Numbers (optional): If numbers are not meaningful for the task.\n",
        "Example: \"Today is 13th\" → \"Today is\"\n",
        "–Removing URLs, Emails, Mentions: For social media, forums, emails.\n",
        "Example: \"Check http://example.com\" → \"Check\"\n",
        "–Removing HTML tags:\n",
        "Tokenization: Splitting text into units: words, subwords, or sentences.\n",
        "–\n",
        "–\n",
        "3.\n",
        "Normalization: Reducing text to a canonical form.\n",
        "–\n",
        "–\n",
        "4.\n",
        "Word Tokenization: \"I love NLP.\" → [\"I\", \"love\", \"NLP\", \".\"]\n",
        "Sentence Tokenization: \"I love NLP. It is powerful.\" → [\"I love NLP.\", \"It is\n",
        "powerful.\"]\n",
        "Stemming: Reduce words to root form (may not be meaningful). Example:\n",
        "\"playing\", \"played\", \"plays\" → \"play\" Tool: PorterStemmer, SnowballStemmer\n",
        "Lemmatization: Reduce words to dictionary form using context. Example: \"am\",\n",
        "\"are\", \"is\" → \"be\" Tool: WordNetLemmatizer\n",
        "Stop Words Removal: Eliminate common but insignificant words (e.g., \"the\", \"is\",\n",
        "\"in\").\n",
        "Example: \"This is a book\" → \"book\""
      ],
      "metadata": {
        "id": "vEKbKIzDYCZ4"
      }
    }
  ]
}